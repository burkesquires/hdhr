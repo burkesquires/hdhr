{
 "cells": [
  {
   "cell_type": "markdown",
   "metadata": {},
   "source": [
    "# HD HomeRun Analysis"
   ]
  },
  {
   "cell_type": "markdown",
   "metadata": {},
   "source": [
    "---"
   ]
  },
  {
   "cell_type": "markdown",
   "metadata": {},
   "source": [
    "Info: https://www.silicondust.com/hdhomerun/hdhomerun_development.pdf\n",
    "\n",
    "Did not work:\n",
    "- pip install pyhdhomerun\n",
    "- conda install pyhdhomerun\n",
    "- pip install git+git://github.com/burnnat/hdhr"
   ]
  },
  {
   "cell_type": "markdown",
   "metadata": {},
   "source": [
    "---"
   ]
  },
  {
   "cell_type": "code",
   "execution_count": 4,
   "metadata": {},
   "outputs": [
    {
     "name": "stdout",
     "output_type": "stream",
     "text": [
      "Requirement already satisfied: hdhr in /Users/burkesquires/anaconda3/lib/python3.7/site-packages (0.0.8)\n",
      "Requirement already satisfied: setuptools in /Users/burkesquires/anaconda3/lib/python3.7/site-packages (from hdhr) (47.1.1.post20200604)\n",
      "Note: you may need to restart the kernel to use updated packages.\n"
     ]
    }
   ],
   "source": [
    "pip install hdhr"
   ]
  },
  {
   "cell_type": "code",
   "execution_count": 5,
   "metadata": {},
   "outputs": [],
   "source": [
    "import hdhr"
   ]
  },
  {
   "cell_type": "code",
   "execution_count": 6,
   "metadata": {},
   "outputs": [
    {
     "name": "stdout",
     "output_type": "stream",
     "text": [
      "Help on package hdhr:\n",
      "\n",
      "NAME\n",
      "    hdhr\n",
      "\n",
      "PACKAGE CONTENTS\n",
      "    adapter\n",
      "    adapter_types\n",
      "    constants\n",
      "    externals\n",
      "    libhdhr\n",
      "    log_config\n",
      "    types\n",
      "    utility\n",
      "\n",
      "FILE\n",
      "    /Users/burkesquires/anaconda3/lib/python3.7/site-packages/hdhr/__init__.py\n",
      "\n",
      "\n"
     ]
    }
   ],
   "source": [
    "help(hdhr)"
   ]
  },
  {
   "cell_type": "code",
   "execution_count": 7,
   "metadata": {},
   "outputs": [
    {
     "data": {
      "text/plain": [
       "<module 'hdhr' from '/Users/burkesquires/anaconda3/lib/python3.7/site-packages/hdhr/__init__.py'>"
      ]
     },
     "execution_count": 7,
     "metadata": {},
     "output_type": "execute_result"
    }
   ],
   "source": [
    "hdhr"
   ]
  },
  {
   "cell_type": "code",
   "execution_count": 8,
   "metadata": {},
   "outputs": [
    {
     "ename": "OSError",
     "evalue": "dlopen(libhdhomerun.so, 6): image not found",
     "output_type": "error",
     "traceback": [
      "\u001b[0;31m---------------------------------------------------------------------------\u001b[0m",
      "\u001b[0;31mOSError\u001b[0m                                   Traceback (most recent call last)",
      "\u001b[0;32m<ipython-input-8-eb765a78477d>\u001b[0m in \u001b[0;36m<module>\u001b[0;34m\u001b[0m\n\u001b[1;32m      5\u001b[0m \u001b[0;32mfrom\u001b[0m \u001b[0mos\u001b[0m \u001b[0;32mimport\u001b[0m \u001b[0mchdir\u001b[0m\u001b[0;34m\u001b[0m\u001b[0;34m\u001b[0m\u001b[0m\n\u001b[1;32m      6\u001b[0m \u001b[0;34m\u001b[0m\u001b[0m\n\u001b[0;32m----> 7\u001b[0;31m \u001b[0;32mfrom\u001b[0m \u001b[0mhdhr\u001b[0m\u001b[0;34m.\u001b[0m\u001b[0madapter\u001b[0m \u001b[0;32mimport\u001b[0m \u001b[0mHdhrUtility\u001b[0m\u001b[0;34m,\u001b[0m \u001b[0mHdhrDeviceQuery\u001b[0m\u001b[0;34m\u001b[0m\u001b[0;34m\u001b[0m\u001b[0m\n\u001b[0m\u001b[1;32m      8\u001b[0m \u001b[0;32mfrom\u001b[0m \u001b[0mhdhr\u001b[0m\u001b[0;34m.\u001b[0m\u001b[0mconstants\u001b[0m \u001b[0;32mimport\u001b[0m \u001b[0mMAP_US_CABLE\u001b[0m\u001b[0;34m\u001b[0m\u001b[0;34m\u001b[0m\u001b[0m\n\u001b[1;32m      9\u001b[0m \u001b[0;34m\u001b[0m\u001b[0m\n",
      "\u001b[0;32m~/anaconda3/lib/python3.7/site-packages/hdhr/adapter.py\u001b[0m in \u001b[0;36m<module>\u001b[0;34m\u001b[0m\n\u001b[1;32m     11\u001b[0m \u001b[0;34m\u001b[0m\u001b[0m\n\u001b[1;32m     12\u001b[0m \u001b[0;32mfrom\u001b[0m \u001b[0mhdhr\u001b[0m\u001b[0;34m.\u001b[0m\u001b[0madapter_types\u001b[0m \u001b[0;32mimport\u001b[0m \u001b[0;34m*\u001b[0m\u001b[0;34m\u001b[0m\u001b[0;34m\u001b[0m\u001b[0m\n\u001b[0;32m---> 13\u001b[0;31m \u001b[0;32mfrom\u001b[0m \u001b[0mhdhr\u001b[0m\u001b[0;34m.\u001b[0m\u001b[0mexternals\u001b[0m \u001b[0;32mimport\u001b[0m \u001b[0;34m*\u001b[0m\u001b[0;34m\u001b[0m\u001b[0;34m\u001b[0m\u001b[0m\n\u001b[0m\u001b[1;32m     14\u001b[0m \u001b[0;32mfrom\u001b[0m \u001b[0mhdhr\u001b[0m\u001b[0;34m.\u001b[0m\u001b[0mtypes\u001b[0m \u001b[0;32mimport\u001b[0m \u001b[0;34m*\u001b[0m\u001b[0;34m\u001b[0m\u001b[0;34m\u001b[0m\u001b[0m\n\u001b[1;32m     15\u001b[0m \u001b[0;32mfrom\u001b[0m \u001b[0mhdhr\u001b[0m\u001b[0;34m.\u001b[0m\u001b[0mconstants\u001b[0m \u001b[0;32mimport\u001b[0m \u001b[0;34m*\u001b[0m\u001b[0;34m\u001b[0m\u001b[0;34m\u001b[0m\u001b[0m\n",
      "\u001b[0;32m~/anaconda3/lib/python3.7/site-packages/hdhr/externals.py\u001b[0m in \u001b[0;36m<module>\u001b[0;34m\u001b[0m\n\u001b[1;32m      3\u001b[0m \u001b[0;32mfrom\u001b[0m \u001b[0mctypes\u001b[0m \u001b[0;32mimport\u001b[0m \u001b[0;34m*\u001b[0m\u001b[0;34m\u001b[0m\u001b[0;34m\u001b[0m\u001b[0m\n\u001b[1;32m      4\u001b[0m \u001b[0;34m\u001b[0m\u001b[0m\n\u001b[0;32m----> 5\u001b[0;31m \u001b[0;32mimport\u001b[0m \u001b[0mhdhr\u001b[0m\u001b[0;34m.\u001b[0m\u001b[0mlibhdhr\u001b[0m\u001b[0;34m\u001b[0m\u001b[0;34m\u001b[0m\u001b[0m\n\u001b[0m\u001b[1;32m      6\u001b[0m \u001b[0;34m\u001b[0m\u001b[0m\n\u001b[1;32m      7\u001b[0m \u001b[0;32mfrom\u001b[0m \u001b[0mhdhr\u001b[0m\u001b[0;34m.\u001b[0m\u001b[0mtypes\u001b[0m \u001b[0;32mimport\u001b[0m \u001b[0;34m*\u001b[0m\u001b[0;34m\u001b[0m\u001b[0;34m\u001b[0m\u001b[0m\n",
      "\u001b[0;32m~/anaconda3/lib/python3.7/site-packages/hdhr/libhdhr.py\u001b[0m in \u001b[0;36m<module>\u001b[0;34m\u001b[0m\n\u001b[1;32m     12\u001b[0m \u001b[0m_LOGGER\u001b[0m\u001b[0;34m.\u001b[0m\u001b[0mdebug\u001b[0m\u001b[0;34m(\u001b[0m\u001b[0;34m\"Found libhdhomerun library: %s\"\u001b[0m \u001b[0;34m%\u001b[0m \u001b[0m_FILEPATH\u001b[0m\u001b[0;34m)\u001b[0m\u001b[0;34m\u001b[0m\u001b[0;34m\u001b[0m\u001b[0m\n\u001b[1;32m     13\u001b[0m \u001b[0;34m\u001b[0m\u001b[0m\n\u001b[0;32m---> 14\u001b[0;31m \u001b[0mlibrary\u001b[0m \u001b[0;34m=\u001b[0m \u001b[0mcdll\u001b[0m\u001b[0;34m.\u001b[0m\u001b[0mLoadLibrary\u001b[0m\u001b[0;34m(\u001b[0m\u001b[0m_FILEPATH\u001b[0m\u001b[0;34m)\u001b[0m\u001b[0;34m\u001b[0m\u001b[0;34m\u001b[0m\u001b[0m\n\u001b[0m\u001b[1;32m     15\u001b[0m \u001b[0;34m\u001b[0m\u001b[0m\n",
      "\u001b[0;32m~/anaconda3/lib/python3.7/ctypes/__init__.py\u001b[0m in \u001b[0;36mLoadLibrary\u001b[0;34m(self, name)\u001b[0m\n\u001b[1;32m    440\u001b[0m \u001b[0;34m\u001b[0m\u001b[0m\n\u001b[1;32m    441\u001b[0m     \u001b[0;32mdef\u001b[0m \u001b[0mLoadLibrary\u001b[0m\u001b[0;34m(\u001b[0m\u001b[0mself\u001b[0m\u001b[0;34m,\u001b[0m \u001b[0mname\u001b[0m\u001b[0;34m)\u001b[0m\u001b[0;34m:\u001b[0m\u001b[0;34m\u001b[0m\u001b[0;34m\u001b[0m\u001b[0m\n\u001b[0;32m--> 442\u001b[0;31m         \u001b[0;32mreturn\u001b[0m \u001b[0mself\u001b[0m\u001b[0;34m.\u001b[0m\u001b[0m_dlltype\u001b[0m\u001b[0;34m(\u001b[0m\u001b[0mname\u001b[0m\u001b[0;34m)\u001b[0m\u001b[0;34m\u001b[0m\u001b[0;34m\u001b[0m\u001b[0m\n\u001b[0m\u001b[1;32m    443\u001b[0m \u001b[0;34m\u001b[0m\u001b[0m\n\u001b[1;32m    444\u001b[0m \u001b[0mcdll\u001b[0m \u001b[0;34m=\u001b[0m \u001b[0mLibraryLoader\u001b[0m\u001b[0;34m(\u001b[0m\u001b[0mCDLL\u001b[0m\u001b[0;34m)\u001b[0m\u001b[0;34m\u001b[0m\u001b[0;34m\u001b[0m\u001b[0m\n",
      "\u001b[0;32m~/anaconda3/lib/python3.7/ctypes/__init__.py\u001b[0m in \u001b[0;36m__init__\u001b[0;34m(self, name, mode, handle, use_errno, use_last_error)\u001b[0m\n\u001b[1;32m    362\u001b[0m \u001b[0;34m\u001b[0m\u001b[0m\n\u001b[1;32m    363\u001b[0m         \u001b[0;32mif\u001b[0m \u001b[0mhandle\u001b[0m \u001b[0;32mis\u001b[0m \u001b[0;32mNone\u001b[0m\u001b[0;34m:\u001b[0m\u001b[0;34m\u001b[0m\u001b[0;34m\u001b[0m\u001b[0m\n\u001b[0;32m--> 364\u001b[0;31m             \u001b[0mself\u001b[0m\u001b[0;34m.\u001b[0m\u001b[0m_handle\u001b[0m \u001b[0;34m=\u001b[0m \u001b[0m_dlopen\u001b[0m\u001b[0;34m(\u001b[0m\u001b[0mself\u001b[0m\u001b[0;34m.\u001b[0m\u001b[0m_name\u001b[0m\u001b[0;34m,\u001b[0m \u001b[0mmode\u001b[0m\u001b[0;34m)\u001b[0m\u001b[0;34m\u001b[0m\u001b[0;34m\u001b[0m\u001b[0m\n\u001b[0m\u001b[1;32m    365\u001b[0m         \u001b[0;32melse\u001b[0m\u001b[0;34m:\u001b[0m\u001b[0;34m\u001b[0m\u001b[0;34m\u001b[0m\u001b[0m\n\u001b[1;32m    366\u001b[0m             \u001b[0mself\u001b[0m\u001b[0;34m.\u001b[0m\u001b[0m_handle\u001b[0m \u001b[0;34m=\u001b[0m \u001b[0mhandle\u001b[0m\u001b[0;34m\u001b[0m\u001b[0;34m\u001b[0m\u001b[0m\n",
      "\u001b[0;31mOSError\u001b[0m: dlopen(libhdhomerun.so, 6): image not found"
     ]
    }
   ],
   "source": [
    "#!/usr/bin/env python3\n",
    "\n",
    "from sys import exit\n",
    "from pprint import pprint\n",
    "from os import chdir\n",
    "\n",
    "from hdhr.adapter import HdhrUtility, HdhrDeviceQuery\n",
    "from hdhr.constants import MAP_US_BCAST\n",
    "\n",
    "def find_devices():\n",
    "    devices = HdhrUtility.discover_find_devices_custom()\n",
    "    \n",
    "    for device in devices:\n",
    "        print(\"Found: %s\" % (device))\n",
    "\n",
    "    return devices\n",
    "\n",
    "def set_tuner_vchannel(device_adapter, vchannel):\n",
    "    \n",
    "    device_adapter.set_tuner_vchannel(vchannel)\n",
    "\n",
    "    (vstatus, raw_data) = device_adapter.get_tuner_vstatus()\n",
    "    print(vstatus)\n",
    "\n",
    "def set_stream(device_adapter, vchannel, target_uri):\n",
    "\n",
    "    device_adapter.set_tuner_vchannel(vchannel)\n",
    "    device_adapter.set_tuner_target(target_uri)\n",
    "\n",
    "def get_supported(device_adapter):\n",
    "\n",
    "    pprint(device_adapter.get_supported())\n",
    "\n",
    "def scan(device_adapter):\n",
    "\n",
    "    def found(result, scan_info):\n",
    "        result.dump_programs()\n",
    "\n",
    "    def progress_update(scan_info, progress):\n",
    "        print(\"Progress: %.2f  Scanned= (%d)\" % (progress, \n",
    "                                                 scan_info.scanned_channels))\n",
    "\n",
    "    device_adapter.scan_channels(MAP_US_CABLE, found_cb=found, \n",
    "                                 incremental_cb=progress_update)\n",
    "\n",
    "def get_count():\n",
    "\n",
    "    return HdhrUtility.get_channels_in_range(MAP_US_CABLE)\n",
    "\n",
    "devices = find_devices()\n",
    "\n",
    "if not devices:\n",
    "    print(\"Could not find any devices.\")\n",
    "    exit()\n",
    "\n",
    "i = 0\n",
    "for device in devices:\n",
    "    print(\"%d: %s\" % (i, device))\n",
    "\n",
    "    hd = HdhrUtility.device_create_from_str(device.nice_device_id)\n",
    "    device_adapter = HdhrDeviceQuery(hd)\n",
    "\n",
    "    hw_model = device_adapter.get_hw_model_str()\n",
    "    print(\"HW Model: %s\" % (hw_model))\n",
    "\n",
    "    model = device_adapter.get_model_str()\n",
    "    print(\"Model: %s\" % (model))\n",
    "\n",
    "    version = device_adapter.get_version()\n",
    "    print(\"Version: %s\" % (version))\n",
    "\n",
    "    features = device_adapter.get_supported()\n",
    "    print(\"Features: %s\" % (features))\n",
    "\n",
    "    i += 1\n",
    "    \n",
    "print\n",
    "\n",
    "for tuner in range(0, devices[0].tuner_count):\n",
    "    first_device_str = (\"%s-%d\" % (devices[0].nice_device_id, tuner))\n",
    "\n",
    "    hd = HdhrUtility.device_create_from_str(first_device_str)\n",
    "\n",
    "    device_adapter = HdhrDeviceQuery(hd)\n",
    "\n",
    "    (status, raw_data) = device_adapter.get_tuner_status()\n",
    "    print(\"Status: %s\" % (status))\n",
    "\n",
    "    (vstatus, raw_data) = device_adapter.get_tuner_vstatus()\n",
    "    print(\"Vstatus: %s\" % (vstatus))\n",
    "\n",
    "    streaminfo = device_adapter.get_tuner_streaminfo()\n",
    "    print(\"Streaminfo: %s\" % (streaminfo))\n",
    "\n",
    "    program = device_adapter.get_tuner_program()\n",
    "    print(\"Program: %s\" % (program))\n",
    "\n",
    "#device_adapter.set_tuner_vchannel(49)\n",
    "#device_adapter.set_tuner_target('rtp://192.168.5.13:7891')\n",
    "#device_adapter.set_tuner_target(None)\n",
    "\n",
    "#get_supported(device_adapter)\n",
    "\n",
    "#print get_count()\n",
    "\n",
    "#scan(device_adapter)\n",
    "\n",
    "print(\"Done.\")"
   ]
  },
  {
   "cell_type": "code",
   "execution_count": 41,
   "metadata": {},
   "outputs": [
    {
     "data": {
      "text/plain": [
       "<module 'hdhr' from '/Users/burkesquires/anaconda3/lib/python3.7/site-packages/hdhr/__init__.py'>"
      ]
     },
     "execution_count": 41,
     "metadata": {},
     "output_type": "execute_result"
    }
   ],
   "source": [
    "import hdhr\n",
    "hdhr"
   ]
  },
  {
   "cell_type": "markdown",
   "metadata": {},
   "source": [
    "Download and `make` software here:"
   ]
  },
  {
   "cell_type": "markdown",
   "metadata": {},
   "source": [
    "%%bash\n",
    "wget https://github.com/Silicondust/libhdhomerun .\n",
    "cd libhdhomerun\n",
    "make"
   ]
  },
  {
   "cell_type": "markdown",
   "metadata": {},
   "source": [
    "    burkesquires@Burkes-Mac-mini hdhomerun_config_gui % hdhomerun_config \n",
    "    Usage:\n",
    "        hdhomerun_config discover\n",
    "        hdhomerun_config <id> get help\n",
    "        hdhomerun_config <id> get <item>\n",
    "        hdhomerun_config <id> set <item> <value>\n",
    "        hdhomerun_config <id> scan <tuner> [<filename>]\n",
    "        hdhomerun_config <id> save <tuner> <filename>\n",
    "        hdhomerun_config <id> upgrade <filename>\n",
    "    burkesquires@Burkes-Mac-mini hdhomerun_config_gui % hdhomerun_config discover\n",
    "    hdhomerun device 10758528 found at 192.168.1.43\n"
   ]
  },
  {
   "cell_type": "markdown",
   "metadata": {},
   "source": [
    "Discover any HDHomeRun devices on the network"
   ]
  },
  {
   "cell_type": "code",
   "execution_count": 26,
   "metadata": {},
   "outputs": [
    {
     "data": {
      "text/plain": [
       "'10758528'"
      ]
     },
     "execution_count": 26,
     "metadata": {},
     "output_type": "execute_result"
    }
   ],
   "source": [
    "contents = !hdhomerun_config discover\n",
    "hdhr_raw = contents.get_list()\n",
    "hdhr_info = hdhr_raw[0].split()\n",
    "hdhr_id = hdhr_info[2]\n",
    "hdhr_ip = hdhr_info[5]"
   ]
  },
  {
   "cell_type": "code",
   "execution_count": 30,
   "metadata": {},
   "outputs": [
    {
     "name": "stdout",
     "output_type": "stream",
     "text": [
      "Usage:\n",
      "\thdhomerun_config discover\n",
      "\thdhomerun_config <id> get help\n",
      "\thdhomerun_config <id> get <item>\n",
      "\thdhomerun_config <id> set <item> <value>\n",
      "\thdhomerun_config <id> scan <tuner> [<filename>]\n",
      "\thdhomerun_config <id> save <tuner> <filename>\n",
      "\thdhomerun_config <id> upgrade <filename>\n"
     ]
    }
   ],
   "source": [
    "!hdhomerun_config $hdhr_id"
   ]
  },
  {
   "cell_type": "code",
   "execution_count": 27,
   "metadata": {},
   "outputs": [
    {
     "name": "stdout",
     "output_type": "stream",
     "text": [
      "Supported configuration options:\n",
      "/lineup/scan\n",
      "/sys/copyright\n",
      "/sys/debug\n",
      "/sys/features\n",
      "/sys/hwmodel\n",
      "/sys/model\n",
      "/sys/restart <resource>\n",
      "/sys/version\n",
      "/tuner<n>/channel <modulation>:<freq|ch>\n",
      "/tuner<n>/channelmap <channelmap>\n",
      "/tuner<n>/debug\n",
      "/tuner<n>/filter \"0x<nnnn>-0x<nnnn> [...]\"\n",
      "/tuner<n>/lockkey\n",
      "/tuner<n>/program <program number>\n",
      "/tuner<n>/status\n",
      "/tuner<n>/streaminfo\n",
      "/tuner<n>/target <ip>:<port>\n",
      "/tuner<n>/vchannel <vchannel>\n",
      "\n"
     ]
    }
   ],
   "source": [
    "!hdhomerun_config $hdhr_id get help"
   ]
  },
  {
   "cell_type": "code",
   "execution_count": null,
   "metadata": {},
   "outputs": [],
   "source": []
  },
  {
   "cell_type": "code",
   "execution_count": null,
   "metadata": {},
   "outputs": [],
   "source": []
  },
  {
   "cell_type": "code",
   "execution_count": null,
   "metadata": {},
   "outputs": [],
   "source": []
  },
  {
   "cell_type": "code",
   "execution_count": 32,
   "metadata": {},
   "outputs": [
    {
     "name": "stdout",
     "output_type": "stream",
     "text": [
      "HDHR5-4US\n"
     ]
    }
   ],
   "source": [
    "!hdhomerun_config $hdhr_id get /sys/hwmodel"
   ]
  },
  {
   "cell_type": "code",
   "execution_count": 33,
   "metadata": {},
   "outputs": [
    {
     "name": "stdout",
     "output_type": "stream",
     "text": [
      "channelmap: us-bcast us-cable us-hrc us-irc kr-bcast kr-cable\n",
      "modulation: 8vsb qam256 qam64\n",
      "auto-modulation: auto auto6t auto6c qam\n",
      "\n"
     ]
    }
   ],
   "source": [
    "!hdhomerun_config $hdhr_id get /sys/features"
   ]
  },
  {
   "cell_type": "code",
   "execution_count": 42,
   "metadata": {},
   "outputs": [
    {
     "name": "stdout",
     "output_type": "stream",
     "text": [
      "unable to connect to device\n"
     ]
    }
   ],
   "source": [
    "!hdhomerun_config $hdhr_id get /tuner1/status"
   ]
  },
  {
   "cell_type": "code",
   "execution_count": 35,
   "metadata": {},
   "outputs": [
    {
     "name": "stdout",
     "output_type": "stream",
     "text": [
      "ch=8vsb:479000000 lock=8vsb ss=100 snq=100 seq=100 bps=2714720 pps=258\n",
      "ch=8vsb:473000000 lock=8vsb ss=87 snq=82 seq=100 bps=2687648 pps=267\n",
      "ch=8vsb:575000000 lock=8vsb ss=100 snq=100 seq=100 bps=6364928 pps=604\n",
      "ch=8vsb:593000000 lock=8vsb ss=100 snq=100 seq=100 bps=1910080 pps=186\n"
     ]
    }
   ],
   "source": [
    "for i in range(4):\n",
    "    !hdhomerun_config $hdhr_id get /tuner$i/status"
   ]
  },
  {
   "cell_type": "code",
   "execution_count": 37,
   "metadata": {},
   "outputs": [
    {
     "name": "stdout",
     "output_type": "stream",
     "text": [
      "6\n",
      "2\n",
      "1\n",
      "4\n"
     ]
    }
   ],
   "source": [
    "for i in range(4):\n",
    "    !hdhomerun_config $hdhr_id get /tuner$i/program"
   ]
  },
  {
   "cell_type": "code",
   "execution_count": null,
   "metadata": {},
   "outputs": [],
   "source": []
  }
 ],
 "metadata": {
  "kernelspec": {
   "display_name": "Python 3",
   "language": "python",
   "name": "python3"
  },
  "language_info": {
   "codemirror_mode": {
    "name": "ipython",
    "version": 3
   },
   "file_extension": ".py",
   "mimetype": "text/x-python",
   "name": "python",
   "nbconvert_exporter": "python",
   "pygments_lexer": "ipython3",
   "version": "3.7.4"
  }
 },
 "nbformat": 4,
 "nbformat_minor": 4
}
